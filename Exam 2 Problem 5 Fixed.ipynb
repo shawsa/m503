{
 "cells": [
  {
   "cell_type": "markdown",
   "metadata": {},
   "source": [
    "# Problem 5"
   ]
  },
  {
   "cell_type": "code",
   "execution_count": 1,
   "metadata": {},
   "outputs": [],
   "source": [
    "from sympy import *\n",
    "from sympy.abc import lamda \n",
    "# in Python the correct spelling \"lambda\" is a keyword so they intentionally misspell it\n",
    "init_printing()"
   ]
  },
  {
   "cell_type": "markdown",
   "metadata": {},
   "source": [
    "# Define a valid inner product."
   ]
  },
  {
   "cell_type": "markdown",
   "metadata": {},
   "source": [
    "Define the inner product as\n",
    "$$\n",
    "\\langle \\vec{u}, \\vec{v} \\rangle =  \\vec{v}^TW \\vec{u}\n",
    "$$\n",
    "where $$W = \\begin{bmatrix}2 & 1 \\\\ 1 & 1 \\end{bmatrix}$$"
   ]
  },
  {
   "cell_type": "code",
   "execution_count": 2,
   "metadata": {},
   "outputs": [],
   "source": [
    "u1, u2, v1, v2, w1, w2 = symbols('u1 u2 v1 v2 w1 w2')\n",
    "u = Matrix([[v1],[v2]])\n",
    "v = Matrix([[u1],[u2]])\n",
    "w = Matrix([[w1],[w2]])\n",
    "\n",
    "W = Matrix([[2, 1], [1,1]])\n",
    "\n",
    "def inner(u,v):\n",
    "    return (v.T*W*u)[0]"
   ]
  },
  {
   "cell_type": "markdown",
   "metadata": {},
   "source": [
    "Thus \n",
    "$$\n",
    "\\left\\langle \\begin{bmatrix}u_1\\\\u_2\\end{bmatrix}, \\begin{bmatrix}v_1\\\\v_2\\end{bmatrix} \\right\\rangle = 2 u_{1} v_{1} + u_{1} v_{2} + u_{2} v_{1} + u_{2} v_{2}\n",
    "$$ \n",
    "defines our inner product."
   ]
  },
  {
   "cell_type": "markdown",
   "metadata": {},
   "source": [
    "This matrix is SPD so it should be a valid inner product. Let's verify."
   ]
  },
  {
   "cell_type": "code",
   "execution_count": 4,
   "metadata": {},
   "outputs": [
    {
     "name": "stdout",
     "output_type": "stream",
     "text": [
      "positive definite\n"
     ]
    },
    {
     "data": {
      "image/png": "[encoded data removed]",
      "text/latex": [
       "$$2 v_{1}^{2} + 2 v_{1} v_{2} + v_{2}^{2}$$"
      ],
      "text/plain": [
       "    2               2\n",
       "2⋅v₁  + 2⋅v₁⋅v₂ + v₂ "
      ]
     },
     "metadata": {},
     "output_type": "display_data"
    },
    {
     "data": {
      "image/png": "[encoded data removed]",
      "text/latex": [
       "$$2 v_{1}^{2} + 2 v_{1} v_{2} + v_{2}^{2}$$"
      ],
      "text/plain": [
       "    2               2\n",
       "2⋅v₁  + 2⋅v₁⋅v₂ + v₂ "
      ]
     },
     "metadata": {},
     "output_type": "display_data"
    }
   ],
   "source": [
    "print('positive definite')\n",
    "display(inner(u,u).expand())\n",
    "display(v1**2 + ((v1+v2)**2).expand())"
   ]
  },
  {
   "cell_type": "markdown",
   "metadata": {},
   "source": [
    "This last line shows that $\\langle \\vec{v}, \\vec{v} \\rangle = v_1^2 + (v_1+v_2)^2$. Since it is the sum of squares it is non-negavite and only equal to zero when $v_1 = 0$ and $v_1 + v_2 = 0$. This only occurs when $\\vec{v}=\\vec{0}$."
   ]
  },
  {
   "cell_type": "code",
   "execution_count": 5,
   "metadata": {},
   "outputs": [
    {
     "name": "stdout",
     "output_type": "stream",
     "text": [
      "additivity\n"
     ]
    },
    {
     "data": {
      "image/png": "[encoded data removed]",
      "text/latex": [
       "$$2 u_{1} w_{1} + u_{1} w_{2} + u_{2} w_{1} + u_{2} w_{2} + 2 v_{1} w_{1} + v_{1} w_{2} + v_{2} w_{1} + v_{2} w_{2}$$"
      ],
      "text/plain": [
       "2⋅u₁⋅w₁ + u₁⋅w₂ + u₂⋅w₁ + u₂⋅w₂ + 2⋅v₁⋅w₁ + v₁⋅w₂ + v₂⋅w₁ + v₂⋅w₂"
      ]
     },
     "metadata": {},
     "output_type": "display_data"
    },
    {
     "data": {
      "image/png": "[encoded data removed]",
      "text/latex": [
       "$$2 u_{1} w_{1} + u_{1} w_{2} + u_{2} w_{1} + u_{2} w_{2} + 2 v_{1} w_{1} + v_{1} w_{2} + v_{2} w_{1} + v_{2} w_{2}$$"
      ],
      "text/plain": [
       "2⋅u₁⋅w₁ + u₁⋅w₂ + u₂⋅w₁ + u₂⋅w₂ + 2⋅v₁⋅w₁ + v₁⋅w₂ + v₂⋅w₁ + v₂⋅w₂"
      ]
     },
     "metadata": {},
     "output_type": "display_data"
    },
    {
     "name": "stdout",
     "output_type": "stream",
     "text": [
      "\n",
      "\n",
      "homogeneity\n"
     ]
    },
    {
     "data": {
      "image/png": "[encoded data removed]",
      "text/latex": [
       "$$2 \\lambda u_{1} v_{1} + \\lambda u_{1} v_{2} + \\lambda u_{2} v_{1} + \\lambda u_{2} v_{2}$$"
      ],
      "text/plain": [
       "2⋅λ⋅u₁⋅v₁ + λ⋅u₁⋅v₂ + λ⋅u₂⋅v₁ + λ⋅u₂⋅v₂"
      ]
     },
     "metadata": {},
     "output_type": "display_data"
    },
    {
     "data": {
      "image/png": "[encoded data removed]",
      "text/latex": [
       "$$2 \\lambda u_{1} v_{1} + \\lambda u_{1} v_{2} + \\lambda u_{2} v_{1} + \\lambda u_{2} v_{2}$$"
      ],
      "text/plain": [
       "2⋅λ⋅u₁⋅v₁ + λ⋅u₁⋅v₂ + λ⋅u₂⋅v₁ + λ⋅u₂⋅v₂"
      ]
     },
     "metadata": {},
     "output_type": "display_data"
    },
    {
     "name": "stdout",
     "output_type": "stream",
     "text": [
      "\n",
      "\n",
      "symmetric\n"
     ]
    },
    {
     "data": {
      "image/png": "[encoded data removed]",
      "text/latex": [
       "$$2 u_{1} v_{1} + u_{1} v_{2} + u_{2} v_{1} + u_{2} v_{2}$$"
      ],
      "text/plain": [
       "2⋅u₁⋅v₁ + u₁⋅v₂ + u₂⋅v₁ + u₂⋅v₂"
      ]
     },
     "metadata": {},
     "output_type": "display_data"
    },
    {
     "data": {
      "image/png": "[encoded data removed]",
      "text/latex": [
       "$$2 u_{1} v_{1} + u_{1} v_{2} + u_{2} v_{1} + u_{2} v_{2}$$"
      ],
      "text/plain": [
       "2⋅u₁⋅v₁ + u₁⋅v₂ + u₂⋅v₁ + u₂⋅v₂"
      ]
     },
     "metadata": {},
     "output_type": "display_data"
    }
   ],
   "source": [
    "print('additivity')\n",
    "display(inner(u+v,w).expand())\n",
    "display( (inner(u,w) + inner(v,w)).expand() )\n",
    "\n",
    "print('\\n')\n",
    "\n",
    "print('homogeneity')\n",
    "display(inner(lamda*u,v).expand())\n",
    "display( (lamda*inner(u,v)).expand() )\n",
    "\n",
    "print('\\n')\n",
    "\n",
    "print('symmetric')\n",
    "display(inner(u,v).expand())\n",
    "display(inner(v,u).expand())"
   ]
  },
  {
   "cell_type": "markdown",
   "metadata": {},
   "source": [
    "We've verified that this is indeed a valid inner product."
   ]
  },
  {
   "cell_type": "markdown",
   "metadata": {},
   "source": [
    "# Define T and calculate the adjoint."
   ]
  },
  {
   "cell_type": "markdown",
   "metadata": {},
   "source": [
    "We define a function $T: \\mathbb{R}^2 \\to \\mathbb{R}^2$ by\n",
    "\\begin{align*}\n",
    "    T(\\vec{x}) &= \\begin{bmatrix}0&-1\\\\1&0\\end{bmatrix}\\vec{x} \\\\\n",
    "    T\\left( \\begin{bmatrix}x_1 \\\\ x_2 \\end{bmatrix} \\right) &= \\begin{bmatrix}-x_2 \\\\ x_1 \\end{bmatrix}\n",
    "\\end{align*}"
   ]
  },
  {
   "cell_type": "code",
   "execution_count": 6,
   "metadata": {},
   "outputs": [
    {
     "data": {
      "text/latex": [
       "$$\\left[\\begin{matrix}0 & -1\\\\1 & 0\\end{matrix}\\right]$$"
      ],
      "text/plain": [
       "⎡0  -1⎤\n",
       "⎢     ⎥\n",
       "⎣1  0 ⎦"
      ]
     },
     "metadata": {},
     "output_type": "display_data"
    }
   ],
   "source": [
    "T = Matrix([[0,-1],[1,0]])\n",
    "display(T)"
   ]
  },
  {
   "cell_type": "markdown",
   "metadata": {},
   "source": [
    "### What is the adjoint of T?"
   ]
  },
  {
   "cell_type": "markdown",
   "metadata": {},
   "source": [
    "The matrix representation here is very useful. W use the definitiion of adjoint as follows\n",
    "\\begin{align*}\n",
    "\\langle T\\vec{u}, \\vec{v} \\rangle &= \\langle \\vec{u}, T^*\\vec{v} \\rangle \\\\\n",
    "\\vec{v}^T W T \\vec{u} &= (T^*\\vec{v})^T W \\vec{u}\\\\\n",
    "        &= \\vec{v}^T T^{*T} W \\vec{u}\n",
    "\\end{align*}\n",
    "Since this is true for all $\\vec{u},\\vec{v}$ and since $WT$ is full rank, we must have that\n",
    "$$\n",
    "T^{*T} W = WT\n",
    "$$\n",
    "and thus\n",
    "$$\n",
    "T^{*} = W^{-1}T^TW\n",
    "$$\n",
    "gives us $T^*$. Note that here we have used the fact that $W$ and $W^{-1}$ are symmetric."
   ]
  },
  {
   "cell_type": "code",
   "execution_count": 7,
   "metadata": {},
   "outputs": [
    {
     "name": "stdout",
     "output_type": "stream",
     "text": [
      "The adjoint is\n"
     ]
    },
    {
     "data": {
      "text/latex": [
       "$$\\left[\\begin{matrix}3 & 2\\\\-5 & -3\\end{matrix}\\right]$$"
      ],
      "text/plain": [
       "⎡3   2 ⎤\n",
       "⎢      ⎥\n",
       "⎣-5  -3⎦"
      ]
     },
     "metadata": {},
     "output_type": "display_data"
    }
   ],
   "source": [
    "adjoint = W**-1 * T.T * W\n",
    "print('The adjoint is')\n",
    "display(adjoint)"
   ]
  },
  {
   "cell_type": "markdown",
   "metadata": {},
   "source": [
    "Thus our function $T^{*}: \\mathbb{R}^2 \\to \\mathbb{R}^2$ is \n",
    "$$\n",
    "T^{*}(\\vec{x}) = \\left[\\begin{matrix}3 & 2\\\\-5 & -3\\end{matrix}\\right] \\vec{x}\n",
    "$$\n",
    "We can check this by verifying $\\langle T\\vec{u}, \\vec{v} \\rangle = \\langle \\vec{u}, T^*\\vec{v} \\rangle$."
   ]
  },
  {
   "cell_type": "code",
   "execution_count": 8,
   "metadata": {},
   "outputs": [
    {
     "data": {
      "image/png": "[encoded data removed]",
      "text/latex": [
       "$$u_{1} v_{1} - 2 u_{1} v_{2} + u_{2} v_{1} - u_{2} v_{2}$$"
      ],
      "text/plain": [
       "u₁⋅v₁ - 2⋅u₁⋅v₂ + u₂⋅v₁ - u₂⋅v₂"
      ]
     },
     "metadata": {},
     "output_type": "display_data"
    },
    {
     "data": {
      "image/png": "[encoded data removed]",
      "text/latex": [
       "$$u_{1} v_{1} - 2 u_{1} v_{2} + u_{2} v_{1} - u_{2} v_{2}$$"
      ],
      "text/plain": [
       "u₁⋅v₁ - 2⋅u₁⋅v₂ + u₂⋅v₁ - u₂⋅v₂"
      ]
     },
     "metadata": {},
     "output_type": "display_data"
    }
   ],
   "source": [
    "display(inner(T*u, v).expand())\n",
    "display(inner(u, adjoint*v).expand())"
   ]
  },
  {
   "cell_type": "markdown",
   "metadata": {},
   "source": [
    "This verifies our calculation."
   ]
  }
 ],
 "metadata": {
  "kernelspec": {
   "display_name": "Python 3",
   "language": "python",
   "name": "python3"
  },
  "language_info": {
   "codemirror_mode": {
    "name": "ipython",
    "version": 3
   },
   "file_extension": ".py",
   "mimetype": "text/x-python",
   "name": "python",
   "nbconvert_exporter": "python",
   "pygments_lexer": "ipython3",
   "version": "3.6.6"
  }
 },
 "nbformat": 4,
 "nbformat_minor": 2
}
