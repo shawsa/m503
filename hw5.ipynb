{
 "cells": [
  {
   "cell_type": "code",
   "execution_count": 19,
   "metadata": {},
   "outputs": [
    {
     "name": "stdout",
     "output_type": "stream",
     "text": [
      "IPython console for SymPy 1.2 (Python 3.6.6-64-bit) (ground types: python)\n",
      "\n",
      "These commands were executed:\n",
      ">>> from __future__ import division\n",
      ">>> from sympy import *\n",
      ">>> x, y, z, t = symbols('x y z t')\n",
      ">>> k, m, n = symbols('k m n', integer=True)\n",
      ">>> f, g, h = symbols('f g h', cls=Function)\n",
      ">>> init_printing()\n",
      "\n",
      "Documentation can be found at http://docs.sympy.org/1.2/\n",
      "\n"
     ]
    }
   ],
   "source": [
    "from sympy import *\n",
    "init_session()"
   ]
  },
  {
   "cell_type": "code",
   "execution_count": 20,
   "metadata": {},
   "outputs": [],
   "source": [
    "A, B, C, u, v, w, x = symbols('A B C u v w x')"
   ]
  },
  {
   "cell_type": "code",
   "execution_count": 21,
   "metadata": {},
   "outputs": [],
   "source": [
    "p = A*x**2 + B*x + C\n",
    "q = u*x**2 + v*x + w"
   ]
  },
  {
   "cell_type": "code",
   "execution_count": 22,
   "metadata": {},
   "outputs": [],
   "source": [
    "expr = (p*q).integrate(x)\n",
    "p_int = expr.subs(x, 1) - expr.subs(x, 0)"
   ]
  },
  {
   "cell_type": "code",
   "execution_count": 86,
   "metadata": {},
   "outputs": [],
   "source": [
    "p_half = p.subs(x, Rational(1,2))"
   ]
  },
  {
   "cell_type": "code",
   "execution_count": 87,
   "metadata": {},
   "outputs": [
    {
     "data": {
      "image/png": "[encoded data removed]",
      "text/latex": [
       "$$\\frac{A}{4} + \\frac{B}{2} + C$$"
      ],
      "text/plain": [
       "A   B    \n",
       "─ + ─ + C\n",
       "4   2    "
      ]
     },
     "execution_count": 87,
     "metadata": {},
     "output_type": "execute_result"
    }
   ],
   "source": [
    "p_half"
   ]
  },
  {
   "cell_type": "code",
   "execution_count": 70,
   "metadata": {},
   "outputs": [
    {
     "data": {
      "image/png": "[encoded data removed]",
      "text/latex": [
       "$$\\frac{A u}{5} + \\frac{A v}{4} + \\frac{A w}{3} + \\frac{B u}{4} + \\frac{B v}{3} + \\frac{B w}{2} + \\frac{C u}{3} + \\frac{C v}{2} + C w$$"
      ],
      "text/plain": [
       "A⋅u   A⋅v   A⋅w   B⋅u   B⋅v   B⋅w   C⋅u   C⋅v      \n",
       "─── + ─── + ─── + ─── + ─── + ─── + ─── + ─── + C⋅w\n",
       " 5     4     3     4     3     2     3     2       "
      ]
     },
     "execution_count": 70,
     "metadata": {},
     "output_type": "execute_result"
    }
   ],
   "source": [
    "p_int"
   ]
  },
  {
   "cell_type": "code",
   "execution_count": 71,
   "metadata": {},
   "outputs": [],
   "source": [
    "zero = p_int - p_half"
   ]
  },
  {
   "cell_type": "code",
   "execution_count": 72,
   "metadata": {},
   "outputs": [
    {
     "data": {
      "image/png": "[encoded data removed]",
      "text/latex": [
       "$$\\frac{A u}{5} + \\frac{A v}{4} + \\frac{A w}{3} - \\frac{A}{4} + \\frac{B u}{4} + \\frac{B v}{3} + \\frac{B w}{2} - \\frac{B}{2} + \\frac{C u}{3} + \\frac{C v}{2} + C w - C$$"
      ],
      "text/plain": [
       "A⋅u   A⋅v   A⋅w   A   B⋅u   B⋅v   B⋅w   B   C⋅u   C⋅v          \n",
       "─── + ─── + ─── - ─ + ─── + ─── + ─── - ─ + ─── + ─── + C⋅w - C\n",
       " 5     4     3    4    4     3     2    2    3     2           "
      ]
     },
     "execution_count": 72,
     "metadata": {},
     "output_type": "execute_result"
    }
   ],
   "source": [
    "zero"
   ]
  },
  {
   "cell_type": "code",
   "execution_count": 73,
   "metadata": {},
   "outputs": [],
   "source": [
    "As = (zero.subs(B, 0).subs(C, 0)/A).simplify()\n",
    "Bs = (zero.subs(A, 0).subs(C, 0)/B).simplify()\n",
    "Cs = (zero.subs(B, 0).subs(A, 0)/C).simplify()"
   ]
  },
  {
   "cell_type": "code",
   "execution_count": 74,
   "metadata": {},
   "outputs": [
    {
     "data": {
      "image/png": "[encoded data removed]",
      "text/latex": [
       "$$\\frac{u}{5} + \\frac{v}{4} + \\frac{w}{3} - \\frac{1}{4}$$"
      ],
      "text/plain": [
       "u   v   w   1\n",
       "─ + ─ + ─ - ─\n",
       "5   4   3   4"
      ]
     },
     "metadata": {},
     "output_type": "display_data"
    },
    {
     "data": {
      "image/png": "[encoded data removed]",
      "text/latex": [
       "$$\\frac{u}{4} + \\frac{v}{3} + \\frac{w}{2} - \\frac{1}{2}$$"
      ],
      "text/plain": [
       "u   v   w   1\n",
       "─ + ─ + ─ - ─\n",
       "4   3   2   2"
      ]
     },
     "metadata": {},
     "output_type": "display_data"
    },
    {
     "data": {
      "image/png": "[encoded data removed]",
      "text/latex": [
       "$$\\frac{u}{3} + \\frac{v}{2} + w - 1$$"
      ],
      "text/plain": [
       "u   v        \n",
       "─ + ─ + w - 1\n",
       "3   2        "
      ]
     },
     "metadata": {},
     "output_type": "display_data"
    }
   ],
   "source": [
    "display(As)\n",
    "display(Bs)\n",
    "display(Cs)"
   ]
  },
  {
   "cell_type": "code",
   "execution_count": 75,
   "metadata": {},
   "outputs": [],
   "source": [
    "M = Matrix([[1/5, 1/4, 1/3], [1/4, 1/3, 1/2], [1/3, 1/2, 1]])\n",
    "rhs = Matrix([[1/4], [1/2], [1]])\n",
    "sol = M.LUsolve(rhs)"
   ]
  },
  {
   "cell_type": "code",
   "execution_count": 76,
   "metadata": {},
   "outputs": [
    {
     "data": {
      "text/latex": [
       "$$\\left[\\begin{matrix}-15.0000000000001\\\\15.0000000000001\\\\-1.50000000000002\\end{matrix}\\right]$$"
      ],
      "text/plain": [
       "⎡-15.0000000000001⎤\n",
       "⎢                 ⎥\n",
       "⎢15.0000000000001 ⎥\n",
       "⎢                 ⎥\n",
       "⎣-1.50000000000002⎦"
      ]
     },
     "execution_count": 76,
     "metadata": {},
     "output_type": "execute_result"
    }
   ],
   "source": [
    "sol"
   ]
  },
  {
   "cell_type": "markdown",
   "metadata": {},
   "source": [
    "# Checking"
   ]
  },
  {
   "cell_type": "code",
   "execution_count": 89,
   "metadata": {},
   "outputs": [
    {
     "data": {
      "image/png": "[encoded data removed]",
      "text/latex": [
       "$$- 15 x^{2} + 15 x - \\frac{3}{2}$$"
      ],
      "text/plain": [
       "      2          3\n",
       "- 15⋅x  + 15⋅x - ─\n",
       "                 2"
      ]
     },
     "metadata": {},
     "output_type": "display_data"
    },
    {
     "data": {
      "image/png": "[encoded data removed]",
      "text/latex": [
       "$$\\frac{A}{4} + \\frac{B}{2} + C$$"
      ],
      "text/plain": [
       "A   B    \n",
       "─ + ─ + C\n",
       "4   2    "
      ]
     },
     "metadata": {},
     "output_type": "display_data"
    },
    {
     "data": {
      "image/png": "[encoded data removed]",
      "text/latex": [
       "$$\\frac{A}{4} + \\frac{B}{2} + C$$"
      ],
      "text/plain": [
       "A   B    \n",
       "─ + ─ + C\n",
       "4   2    "
      ]
     },
     "metadata": {},
     "output_type": "display_data"
    }
   ],
   "source": [
    "q_new = -15*x**2 + 15*x - Rational(3,2)\n",
    "display(q_new)\n",
    "expr_new = (p*q_new).integrate(x)\n",
    "int_new = expr_new.subs(x, 1) - expr_new.subs(x,0)\n",
    "display(int_new)\n",
    "display(p_half)"
   ]
  },
  {
   "cell_type": "markdown",
   "metadata": {},
   "source": [
    "# Tex"
   ]
  },
  {
   "cell_type": "code",
   "execution_count": 96,
   "metadata": {},
   "outputs": [
    {
     "data": {
      "image/png": "[encoded data removed]",
      "text/latex": [
       "$$- 15 A x^{4} + 15 A x^{3} - \\frac{3 A x^{2}}{2} - 15 B x^{3} + 15 B x^{2} - \\frac{3 B x}{2} - 15 C x^{2} + 15 C x - \\frac{3 C}{2}$$"
      ],
      "text/plain": [
       "                           2                                                  \n",
       "        4         3   3⋅A⋅x          3         2   3⋅B⋅x         2            \n",
       "- 15⋅A⋅x  + 15⋅A⋅x  - ────── - 15⋅B⋅x  + 15⋅B⋅x  - ───── - 15⋅C⋅x  + 15⋅C⋅x - \n",
       "                        2                            2                        \n",
       "\n",
       "   \n",
       "3⋅C\n",
       "───\n",
       " 2 "
      ]
     },
     "metadata": {},
     "output_type": "display_data"
    },
    {
     "name": "stdout",
     "output_type": "stream",
     "text": [
      "- 15 A x^{4} + 15 A x^{3} - \\frac{3 A x^{2}}{2} - 15 B x^{3} + 15 B x^{2} - \\frac{3 B x}{2} - 15 C x^{2} + 15 C x - \\frac{3 C}{2}\n"
     ]
    }
   ],
   "source": [
    "prod_new = (p*q_new).expand()\n",
    "display( prod_new )\n",
    "print(latex(prod_new))"
   ]
  },
  {
   "cell_type": "code",
   "execution_count": 104,
   "metadata": {},
   "outputs": [
    {
     "data": {
      "image/png": "[encoded data removed]",
      "text/latex": [
       "$$- 3 A x^{5} - \\frac{3 C x}{2} + x^{4} \\left(\\frac{15 A}{4} - \\frac{15 B}{4}\\right) + x^{3} \\left(- \\frac{A}{2} + 5 B - 5 C\\right) + x^{2} \\left(- \\frac{3 B}{4} + \\frac{15 C}{2}\\right)$$"
      ],
      "text/plain": [
       "       5   3⋅C⋅x    4 ⎛15⋅A   15⋅B⎞    3 ⎛  A            ⎞    2 ⎛  3⋅B   15⋅C⎞\n",
       "- 3⋅A⋅x  - ───── + x ⋅⎜──── - ────⎟ + x ⋅⎜- ─ + 5⋅B - 5⋅C⎟ + x ⋅⎜- ─── + ────⎟\n",
       "             2        ⎝ 4      4  ⎠      ⎝  2            ⎠      ⎝   4     2  ⎠"
      ]
     },
     "metadata": {},
     "output_type": "display_data"
    },
    {
     "name": "stdout",
     "output_type": "stream",
     "text": [
      "- 3 A x^{5} - \\frac{3 C x}{2} + x^{4} \\left(\\frac{15 A}{4} - \\frac{15 B}{4}\\right) + x^{3} \\left(- \\frac{A}{2} + 5 B - 5 C\\right) + x^{2} \\left(- \\frac{3 B}{4} + \\frac{15 C}{2}\\right)\n"
     ]
    }
   ],
   "source": [
    "int_new = prod_new.integrate(x)\n",
    "display(int_new)\n",
    "print(latex(int_new))"
   ]
  },
  {
   "cell_type": "code",
   "execution_count": 105,
   "metadata": {},
   "outputs": [
    {
     "data": {
      "image/png": "[encoded data removed]",
      "text/latex": [
       "$$\\frac{A}{4} + \\frac{B}{2} + C$$"
      ],
      "text/plain": [
       "A   B    \n",
       "─ + ─ + C\n",
       "4   2    "
      ]
     },
     "metadata": {},
     "output_type": "display_data"
    },
    {
     "name": "stdout",
     "output_type": "stream",
     "text": [
      "\\frac{A}{4} + \\frac{B}{2} + C\n"
     ]
    }
   ],
   "source": [
    "int_eval_new = int_new.subs(x,1) - int_new.subs(x, 0)\n",
    "display( int_eval_new )\n",
    "print(latex(int_eval_new))"
   ]
  },
  {
   "cell_type": "markdown",
   "metadata": {},
   "source": [
    "# Tent Function"
   ]
  },
  {
   "cell_type": "code",
   "execution_count": 123,
   "metadata": {},
   "outputs": [],
   "source": [
    "%matplotlib inline\n",
    "import matplotlib.pyplot as plt\n",
    "import matplotlib"
   ]
  },
  {
   "cell_type": "code",
   "execution_count": 124,
   "metadata": {},
   "outputs": [],
   "source": [
    "matplotlib.rcParams.update({'font.size': 14})"
   ]
  },
  {
   "cell_type": "code",
   "execution_count": 128,
   "metadata": {},
   "outputs": [],
   "source": [
    "def tent(x, c, delta):\n",
    "    if x < c-delta:\n",
    "        return 0\n",
    "    elif x<c:\n",
    "        return (x-(c-delta))/delta\n",
    "    elif x<c+delta:\n",
    "        return 1 - (x-c)/delta\n",
    "    else:\n",
    "        return 0"
   ]
  },
  {
   "cell_type": "code",
   "execution_count": 136,
   "metadata": {},
   "outputs": [
    {
     "data": {
      "image/png": "[encoded data removed]",
      "text/plain": [
       "<Figure size 576x288 with 1 Axes>"
      ]
     },
     "metadata": {},
     "output_type": "display_data"
    }
   ],
   "source": [
    "n = 101\n",
    "xs = [1/(n-1)*i for i in range(n)]\n",
    "plt.figure(figsize=(8,4))\n",
    "plt.plot(xs, [tent(x, .5, .2) for x in xs], 'r-')\n",
    "plt.xticks([.3, .5, .7], ['$c-\\delta$', '$c$', '$c+\\delta$'])\n",
    "plt.yticks([0,1], [0,1])\n",
    "plt.title('Tent function of radius $\\delta$ centered at $x=c$.')\n",
    "plt.show()"
   ]
  },
  {
   "cell_type": "code",
   "execution_count": null,
   "metadata": {},
   "outputs": [],
   "source": []
  },
  {
   "cell_type": "code",
   "execution_count": null,
   "metadata": {},
   "outputs": [],
   "source": []
  }
 ],
 "metadata": {
  "kernelspec": {
   "display_name": "Python 3",
   "language": "python",
   "name": "python3"
  },
  "language_info": {
   "codemirror_mode": {
    "name": "ipython",
    "version": 3
   },
   "file_extension": ".py",
   "mimetype": "text/x-python",
   "name": "python",
   "nbconvert_exporter": "python",
   "pygments_lexer": "ipython3",
   "version": "3.6.6"
  }
 },
 "nbformat": 4,
 "nbformat_minor": 2
}
